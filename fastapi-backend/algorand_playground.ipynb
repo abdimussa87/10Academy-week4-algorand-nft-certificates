{
 "cells": [
  {
   "cell_type": "code",
   "execution_count": 2,
   "metadata": {},
   "outputs": [],
   "source": [
    "%reload_ext autoreload\n",
    "%autoreload 2"
   ]
  },
  {
   "cell_type": "code",
   "execution_count": null,
   "metadata": {},
   "outputs": [],
   "source": [
    "%pip3 install py-algorand-sdk"
   ]
  },
  {
   "cell_type": "code",
   "execution_count": 3,
   "metadata": {},
   "outputs": [],
   "source": [
    "import base64\n",
    "import json\n",
    "from algosdk.v2client import algod\n",
    "from algosdk import account, mnemonic\n",
    "from algosdk.transaction import AssetConfigTxn, AssetTransferTxn, AssetFreezeTxn\n",
    "from algosdk.transaction import *\n",
    "from algod import *"
   ]
  },
  {
   "cell_type": "code",
   "execution_count": 4,
   "metadata": {},
   "outputs": [],
   "source": [
    "# For ease of reference, add account public and private keys to\n",
    "# an accounts dict.\n",
    "accounts = {}\n",
    "counter = 1\n",
    "for m in [create_account(),create_account()]:\n",
    "    accounts[counter] = {}\n",
    "    accounts[counter]['public_key'] = m.get('public_key')\n",
    "    accounts[counter]['private_key'] = m.get('private_key')\n",
    "    counter += 1"
   ]
  },
  {
   "cell_type": "code",
   "execution_count": 5,
   "metadata": {},
   "outputs": [
    {
     "name": "stdout",
     "output_type": "stream",
     "text": [
      "{1: {'private_key': 'v6CuPLNsK9ruLILGjV0etn5o7OV9XY/3cjCr4IZFS/WbBa/LPs0psQkXIajoyTfHWXX5pVinmhXgnckMEnw3Bg==',\n",
      "     'public_key': 'TMC27SZ6ZUU3CCIXEGUORSJXY5MXL6NFLCTZUFPATXEQYET4G4DJFGBSJM'},\n",
      " 2: {'private_key': 'EczZgLkdkfUBPu36s5CXkbI120VWK5299ErcZ8SCgVFTrcqFR4X2fXeQ+F4ooCHAQw2JCSxZNUGkH6cB4MjxBg==',\n",
      "     'public_key': 'KOW4VBKHQX3H254Q7BPCRIBBYBBQ3CIJFRMTKQNED6TQDYGI6EDN62S7JY'}}\n"
     ]
    }
   ],
   "source": [
    "import pprint\n",
    "pprint.pprint(accounts)"
   ]
  },
  {
   "cell_type": "markdown",
   "metadata": {},
   "source": [
    "## Ran this command to transfer some microalgo to account 1 & 2\n",
    "./sandbox goal clerk send -a 1000000 -f PPTVLKRE5DMIO42TYHGM6SMPMTB3A6V5PKV7JWFHRAQLOSCFPK3CEUXHJ4 -t public_key1  \n",
    "./sandbox goal clerk send -a 1000000 -f PPTVLKRE5DMIO42TYHGM6SMPMTB3A6V5PKV7JWFHRAQLOSCFPK3CEUXHJ4 -t public_key2\n"
   ]
  },
  {
   "cell_type": "code",
   "execution_count": 7,
   "metadata": {},
   "outputs": [
    {
     "name": "stdout",
     "output_type": "stream",
     "text": [
      "Account balance for TMC27SZ6ZUU3CCIXEGUORSJXY5MXL6NFLCTZUFPATXEQYET4G4DJFGBSJM: 992000 microAlgos\n",
      "Account balance for KOW4VBKHQX3H254Q7BPCRIBBYBBQ3CIJFRMTKQNED6TQDYGI6EDN62S7JY: 1000000 microAlgos\n"
     ]
    }
   ],
   "source": [
    "account_info = algod_client.account_info(accounts[1]['public_key'])\n",
    "print(f\"Account balance for {accounts[1]['public_key']}: {account_info.get('amount')} microAlgos\")\n",
    "account_info = algod_client.account_info(accounts[2]['public_key'])\n",
    "print(f\"Account balance for {accounts[2]['public_key']}: {account_info.get('amount')} microAlgos\")\n"
   ]
  },
  {
   "cell_type": "code",
   "execution_count": 7,
   "metadata": {},
   "outputs": [],
   "source": [
    "# Get network params for transactions before every transaction.\n",
    "params = algod_client.suggested_params()\n",
    "\n",
    "# Account 1 creates an asset called graduation certificate \n",
    "# Asset Creation transaction\n",
    "asset_txn = create_asset( unit_name='ABDUCERT', asset_name='Grad_Cert_For_Trainee_Abdulhamid',total=1,sender_public_key=accounts[1]['public_key'],asset_url='https://ipfs.io/ipfs/Qmaq9wd5Pvfcie2rDxtafrj2UjssWL6AtCr2HYbXewwAzc')\n",
    "# Sign with secret key of creator\n",
    "stxn = asset_txn.sign(accounts[1]['private_key'])\n"
   ]
  },
  {
   "cell_type": "code",
   "execution_count": 8,
   "metadata": {},
   "outputs": [
    {
     "name": "stdout",
     "output_type": "stream",
     "text": [
      "Signed transaction with txID: SKW7S4NTMK4DX2P2ZE4CCSYFTCSFSMRDDOOJ646EK3TCT3UUK4ZA\n",
      "TXID:  SKW7S4NTMK4DX2P2ZE4CCSYFTCSFSMRDDOOJ646EK3TCT3UUK4ZA\n",
      "Result confirmed in round: 6088\n"
     ]
    }
   ],
   "source": [
    "# Send the transaction to the network and retrieve the txid.\n",
    "try:\n",
    "    txid = algod_client.send_transaction(stxn)\n",
    "    print(\"Signed transaction with txID: {}\".format(txid))\n",
    "    # Wait for the transaction to be confirmed\n",
    "    confirmed_txn = wait_for_confirmation(algod_client, txid, 4)  \n",
    "    print(\"TXID: \", txid)\n",
    "    print(\"Result confirmed in round: {}\".format(confirmed_txn['confirmed-round']))\n",
    "   \n",
    "except Exception as err:\n",
    "    pprint.pprint(err)\n",
    "# Retrieve the asset ID of the newly created asset by first\n",
    "# ensuring that the creation transaction was confirmed,\n",
    "# then grabbing the asset id from the transaction."
   ]
  },
  {
   "cell_type": "code",
   "execution_count": 9,
   "metadata": {},
   "outputs": [],
   "source": [
    "#   Utility function used to print created asset for account and assetid\n",
    "def print_created_asset(algodclient, account, assetid):    \n",
    "    # note: if you have an indexer instance available it is easier to just use this\n",
    "    # response = myindexer.accounts(asset_id = assetid)\n",
    "    # then use 'account_info['created-assets'][0] to get info on the created asset\n",
    "    account_info = algodclient.account_info(account)\n",
    "    idx = 0;\n",
    "    for my_account_info in account_info['created-assets']:\n",
    "        scrutinized_asset = account_info['created-assets'][idx]\n",
    "        idx = idx + 1       \n",
    "        if (scrutinized_asset['index'] == assetid):\n",
    "            print(\"Asset ID: {}\".format(scrutinized_asset['index']))\n",
    "            print(json.dumps(my_account_info['params'], indent=4))\n",
    "            break\n",
    "\n",
    "#   Utility function used to print asset holding for account and assetid\n",
    "def print_asset_holding(algodclient, account, assetid):\n",
    "    # note: if you have an indexer instance available it is easier to just use this\n",
    "    # response = myindexer.accounts(asset_id = assetid)\n",
    "    # then loop thru the accounts returned and match the account you are looking for\n",
    "    account_info = algodclient.account_info(account)\n",
    "    idx = 0\n",
    "    for my_account_info in account_info['assets']:\n",
    "        scrutinized_asset = account_info['assets'][idx]\n",
    "        idx = idx + 1        \n",
    "        if (scrutinized_asset['asset-id'] == assetid):\n",
    "            print(\"Asset ID: {}\".format(scrutinized_asset['asset-id']))\n",
    "            print(json.dumps(scrutinized_asset, indent=4))\n",
    "            break\n"
   ]
  },
  {
   "cell_type": "code",
   "execution_count": 10,
   "metadata": {},
   "outputs": [
    {
     "name": "stdout",
     "output_type": "stream",
     "text": [
      "Asset ID: 1040\n",
      "{\n",
      "    \"clawback\": \"FRE47I6OIB2ZNZPHM7JO56PPPU4C7RDFQCMVSAVIGVD5AVSXRPJEKOTGFM\",\n",
      "    \"creator\": \"FRE47I6OIB2ZNZPHM7JO56PPPU4C7RDFQCMVSAVIGVD5AVSXRPJEKOTGFM\",\n",
      "    \"decimals\": 0,\n",
      "    \"default-frozen\": false,\n",
      "    \"freeze\": \"FRE47I6OIB2ZNZPHM7JO56PPPU4C7RDFQCMVSAVIGVD5AVSXRPJEKOTGFM\",\n",
      "    \"manager\": \"FRE47I6OIB2ZNZPHM7JO56PPPU4C7RDFQCMVSAVIGVD5AVSXRPJEKOTGFM\",\n",
      "    \"name\": \"Grad_Cert_For_Trainee_Abdulhamid\",\n",
      "    \"name-b64\": \"R3JhZF9DZXJ0X0Zvcl9UcmFpbmVlX0FiZHVsaGFtaWQ=\",\n",
      "    \"reserve\": \"FRE47I6OIB2ZNZPHM7JO56PPPU4C7RDFQCMVSAVIGVD5AVSXRPJEKOTGFM\",\n",
      "    \"total\": 1,\n",
      "    \"unit-name\": \"ABDUCERT\",\n",
      "    \"unit-name-b64\": \"QUJEVUNFUlQ=\",\n",
      "    \"url\": \"https://ipfs.io/ipfs/Qmaq9wd5Pvfcie2rDxtafrj2UjssWL6AtCr2HYbXewwAzc\",\n",
      "    \"url-b64\": \"aHR0cHM6Ly9pcGZzLmlvL2lwZnMvUW1hcTl3ZDVQdmZjaWUyckR4dGFmcmoyVWpzc1dMNkF0Q3IySFliWGV3d0F6Yw==\"\n",
      "}\n",
      "Asset ID: 1040\n",
      "{\n",
      "    \"amount\": 1,\n",
      "    \"asset-id\": 1040,\n",
      "    \"is-frozen\": false\n",
      "}\n"
     ]
    }
   ],
   "source": [
    "try:\n",
    "    # Pull account info for the creator\n",
    "    # account_info = algod_client.account_info(accounts[1]['pk'])\n",
    "    # get asset_id from tx\n",
    "    # Get the new asset's information from the creator account\n",
    "    ptx = algod_client.pending_transaction_info(txid)\n",
    "    asset_id = ptx[\"asset-index\"]\n",
    "    print_created_asset(algod_client, accounts[1]['public_key'], asset_id)\n",
    "    print_asset_holding(algod_client, accounts[1]['public_key'], asset_id)\n",
    "except Exception as e:\n",
    "    print(e)"
   ]
  },
  {
   "cell_type": "code",
   "execution_count": 12,
   "metadata": {},
   "outputs": [
    {
     "name": "stdout",
     "output_type": "stream",
     "text": [
      "Signed transaction with txID: BL22WCKWETUZ4T63NKXHIPOLNGBF7DQF6ELZBBUNHPCRISKDDUJA\n",
      "TXID:  BL22WCKWETUZ4T63NKXHIPOLNGBF7DQF6ELZBBUNHPCRISKDDUJA\n",
      "Result confirmed in round: 6159\n",
      "Asset ID: 1040\n",
      "{\n",
      "    \"amount\": 0,\n",
      "    \"asset-id\": 1040,\n",
      "    \"is-frozen\": false\n",
      "}\n"
     ]
    }
   ],
   "source": [
    "# OPT-IN\n",
    "\n",
    "# Check if asset_id is in account 2's asset holdings prior\n",
    "# to opt-in\n",
    "params = algod_client.suggested_params()\n",
    "# comment these two lines if you want to use suggested params\n",
    "# params.fee = 1000\n",
    "# params.flat_fee = True\n",
    "\n",
    "account_info = algod_client.account_info(accounts[2]['public_key'])\n",
    "holding = None\n",
    "idx = 0\n",
    "for my_account_info in account_info['assets']:\n",
    "    scrutinized_asset = account_info['assets'][idx]\n",
    "    idx = idx + 1    \n",
    "    if (scrutinized_asset['asset-id'] == asset_id):\n",
    "        holding = True\n",
    "        break\n",
    "\n",
    "if not holding:\n",
    "     # Use the AssetTransferTxn class to transfer assets and opt-in\n",
    "    txn = AssetTransferTxn(\n",
    "        sender=accounts[2]['public_key'],\n",
    "        sp=params,\n",
    "        receiver=accounts[2][\"public_key\"],\n",
    "        amt=0,\n",
    "        index=asset_id)\n",
    "    stxn = txn.sign(accounts[2]['private_key'])\n",
    "    # Send the transaction to the network and retrieve the txid.\n",
    "    try:\n",
    "        txid = algod_client.send_transaction(stxn)\n",
    "        print(\"Signed transaction with txID: {}\".format(txid))\n",
    "        # Wait for the transaction to be confirmed\n",
    "        confirmed_txn = wait_for_confirmation(algod_client, txid, 4) \n",
    "        print(\"TXID: \", txid)\n",
    "        print(\"Result confirmed in round: {}\".format(confirmed_txn['confirmed-round']))\n",
    " \n",
    "    except Exception as err:\n",
    "        print(err)\n",
    "    # Now check the asset holding for that account.\n",
    "    # This should now show a holding with a balance of 0.\n",
    "    print_asset_holding(algod_client, accounts[2]['public_key'], asset_id)\n",
    "    \n",
    "\n"
   ]
  },
  {
   "cell_type": "code",
   "execution_count": 13,
   "metadata": {},
   "outputs": [
    {
     "name": "stdout",
     "output_type": "stream",
     "text": [
      "Signed transaction with txID: 7ZAUA24L5UUC3WNDCKWW53PTYDVFQJTK3YXCSLNJ6YJRKKCABTMQ\n",
      "TXID:  7ZAUA24L5UUC3WNDCKWW53PTYDVFQJTK3YXCSLNJ6YJRKKCABTMQ\n",
      "Result confirmed in round: 6163\n",
      "Asset ID: 1040\n",
      "{\n",
      "    \"amount\": 1,\n",
      "    \"asset-id\": 1040,\n",
      "    \"is-frozen\": false\n",
      "}\n"
     ]
    }
   ],
   "source": [
    "# transfer asset of 10 from account 1 to account 3\n",
    "params = algod_client.suggested_params()\n",
    "# comment these two lines if you want to use suggested params\n",
    "# params.fee = 1000\n",
    "# params.flat_fee = True\n",
    "txn = AssetTransferTxn(\n",
    "    sender=accounts[1]['public_key'],\n",
    "    sp=params,\n",
    "    receiver=accounts[2][\"public_key\"],\n",
    "    amt=1,\n",
    "    index=asset_id)\n",
    "stxn = txn.sign(accounts[1]['private_key'])\n",
    "# Send the transaction to the network and retrieve the txid.\n",
    "try:\n",
    "    txid = algod_client.send_transaction(stxn)\n",
    "    print(\"Signed transaction with txID: {}\".format(txid))\n",
    "    # Wait for the transaction to be confirmed\n",
    "    confirmed_txn = wait_for_confirmation(algod_client, txid, 4) \n",
    "    print(\"TXID: \", txid)\n",
    "    print(\"Result confirmed in round: {}\".format(confirmed_txn['confirmed-round']))\n",
    "\n",
    "except Exception as err:\n",
    "    print(err)\n",
    "# The balance should now be 10.\n",
    "print_asset_holding(algod_client, accounts[2]['public_key'], asset_id)"
   ]
  },
  {
   "cell_type": "code",
   "execution_count": null,
   "metadata": {},
   "outputs": [],
   "source": []
  }
 ],
 "metadata": {
  "kernelspec": {
   "display_name": "week5_algorand_nft",
   "language": "python",
   "name": "python3"
  },
  "language_info": {
   "codemirror_mode": {
    "name": "ipython",
    "version": 3
   },
   "file_extension": ".py",
   "mimetype": "text/x-python",
   "name": "python",
   "nbconvert_exporter": "python",
   "pygments_lexer": "ipython3",
   "version": "3.10.13"
  }
 },
 "nbformat": 4,
 "nbformat_minor": 2
}
